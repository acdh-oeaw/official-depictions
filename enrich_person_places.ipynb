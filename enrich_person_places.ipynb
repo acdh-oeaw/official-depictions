{
 "cells": [
  {
   "cell_type": "code",
   "execution_count": null,
   "metadata": {},
   "outputs": [],
   "source": [
    "for x in Place.objects.all():\n",
    "    x.place_type = 'Gebiet/Region'\n",
    "    x.save()"
   ]
  },
  {
   "cell_type": "code",
   "execution_count": null,
   "metadata": {},
   "outputs": [],
   "source": [
    "from pylobid.pylobid import PyLobidPerson"
   ]
  },
  {
   "cell_type": "code",
   "execution_count": null,
   "metadata": {},
   "outputs": [],
   "source": [
    "pers = Person.objects.filter(authority_url__icontains='d-nb')"
   ]
  },
  {
   "cell_type": "code",
   "execution_count": null,
   "metadata": {},
   "outputs": [],
   "source": [
    "for x in pers:\n",
    "    py_ent = PyLobidPerson(x.authority_url, fetch_related=False)\n",
    "    birth_place = py_ent.birth_place\n",
    "    if birth_place['name']:\n",
    "        b_p, _ = Place.objects.get_or_create(\n",
    "            geonames_id=birth_place['id']\n",
    "        )\n",
    "        b_p.name = birth_place['name']\n",
    "        b_p.place_type = 'Stadt'\n",
    "        b_p.save()\n",
    "        x.place_of_birth = b_p\n",
    "        x.save()\n",
    "    birth_place = py_ent.death_place\n",
    "    if birth_place['name']:\n",
    "        b_p, _ = Place.objects.get_or_create(\n",
    "            geonames_id=birth_place['id']\n",
    "        )\n",
    "        b_p.name = birth_place['name']\n",
    "        b_p.place_type = 'Stadt'\n",
    "        b_p.save()\n",
    "        x.place_of_death = b_p\n",
    "        x.save()\n",
    "    birth_place = {}"
   ]
  },
  {
   "cell_type": "code",
   "execution_count": null,
   "metadata": {},
   "outputs": [],
   "source": [
    "from pylobid.pylobid import PyLobidPlace"
   ]
  },
  {
   "cell_type": "code",
   "execution_count": null,
   "metadata": {},
   "outputs": [],
   "source": [
    "items = Place.objects.filter(geonames_id__startswith='h')"
   ]
  },
  {
   "cell_type": "code",
   "execution_count": null,
   "metadata": {},
   "outputs": [],
   "source": [
    "for x in items:\n",
    "    gnd_id = x.geonames_id\n",
    "    pl_ent = PyLobidPlace(gnd_id, fetch_related=False)\n",
    "    coords = pl_ent.coords\n",
    "    if len(coords) > 1:\n",
    "        lat, lng = coords[1], coords[0]\n",
    "        x.lat = float(lat)\n",
    "        x.lng = float(lng)\n",
    "        x.save()"
   ]
  },
  {
   "cell_type": "code",
   "execution_count": null,
   "metadata": {},
   "outputs": [],
   "source": [
    "for x in Place.objects.exclude(lat=None):\n",
    "    print(x.geonames_id)\n",
    "    print(x.lat, x.lng)"
   ]
  },
  {
   "cell_type": "code",
   "execution_count": null,
   "metadata": {},
   "outputs": [],
   "source": []
  }
 ],
 "metadata": {
  "kernelspec": {
   "display_name": "Django Shell-Plus",
   "language": "python",
   "name": "django_extensions"
  },
  "language_info": {
   "codemirror_mode": {
    "name": "ipython",
    "version": 3
   },
   "file_extension": ".py",
   "mimetype": "text/x-python",
   "name": "python",
   "nbconvert_exporter": "python",
   "pygments_lexer": "ipython3",
   "version": "3.6.9"
  }
 },
 "nbformat": 4,
 "nbformat_minor": 4
}
