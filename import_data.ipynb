{
 "cells": [
  {
   "cell_type": "code",
   "execution_count": null,
   "metadata": {},
   "outputs": [],
   "source": [
    "import pandas as pd"
   ]
  },
  {
   "cell_type": "code",
   "execution_count": null,
   "metadata": {},
   "outputs": [],
   "source": [
    "file = \"data/181206_Datenbank_16pD.xlsx\""
   ]
  },
  {
   "cell_type": "code",
   "execution_count": null,
   "metadata": {},
   "outputs": [],
   "source": [
    "df = pd.read_excel(file).fillna('FALSE')"
   ]
  },
  {
   "cell_type": "code",
   "execution_count": null,
   "metadata": {},
   "outputs": [],
   "source": [
    "bildtechnik, _ = SkosCollection.objects.get_or_create(name=\"Bildtechnik\", label_lang=\"ger\")\n",
    "bildmotiv, _ = SkosCollection.objects.get_or_create(name=\"Bildmotiv\", label_lang=\"ger\")"
   ]
  },
  {
   "cell_type": "code",
   "execution_count": null,
   "metadata": {},
   "outputs": [],
   "source": [
    "for i, row in df.iterrows():\n",
    "    try:\n",
    "        lfnr = int(row['Lfd. Nr.'])\n",
    "    except ValueError:\n",
    "        lfnr = None\n",
    "    if lfnr:\n",
    "        card, _ = Card.objects.get_or_create(legacy_id=lfnr)\n",
    "\n",
    "        if row['Serien-kürzel'] != 'FALSE':\n",
    "            coll, _ = CardCollection.objects.get_or_create(abbreviation=row['Serien-kürzel'])\n",
    "            card.card_collection = coll\n",
    "        if row['Nr (Serie)'] != 'FALSE':\n",
    "            card.number = row['Nr (Serie)']\n",
    "        \n",
    "        if row[\"Text Bildseite (Zitat)\"] != 'FALSE':\n",
    "            card.text_front = row[\"Text Bildseite (Zitat)\"]\n",
    "        if row[\"Text Adressseite (Zitat)\"] != 'FALSE':\n",
    "            card.text_back = row[\"Text Adressseite (Zitat)\"]\n",
    "        \n",
    "        if row[\"Künstler (Bild)\"] != 'FALSE':\n",
    "            per, _ = Person.objects.get_or_create(written_name=row[\"Künstler (Bild)\"])\n",
    "            card.creator_person.add(per)\n",
    "\n",
    "        if row['Bildtechnik'] != 'FALSE':\n",
    "            bt, _ = SkosConcept.objects.get_or_create(\n",
    "                pref_label=row['Bildtechnik'],\n",
    "                pref_label_lang='ger'\n",
    "            )\n",
    "            bt.collection.add(bildtechnik)\n",
    "            card.bild_technik.add(bt)\n",
    "        \n",
    "        if row['Index, Bildmotive'] != 'FALSE':\n",
    "            for y in row['Index, Bildmotive'].split(', '):\n",
    "                conc, _ = SkosConcept.objects.get_or_create(\n",
    "                    pref_label=y.strip(),\n",
    "                    pref_label_lang='ger'\n",
    "                )\n",
    "                conc.collection.add(bildmotiv)\n",
    "                card.subject_norm.add(conc)\n",
    "        \n",
    "        if row['gelaufen / Datum'] != 'FALSE':\n",
    "            card.gelaufen = row['gelaufen / Datum']\n",
    "        \n",
    "        if row['Ausgabe-datum'] != 'FALSE':\n",
    "            card.written_date = row['Ausgabe-datum']\n",
    "        else:\n",
    "            card.written_date=\"\"\n",
    "        \n",
    "        if row['Formale Anmerkungen'] != 'FALSE':\n",
    "            card.note = row['Formale Anmerkungen']\n",
    "        \n",
    "        if row['Sonstige Anmerkungen'] != 'FALSE':\n",
    "            card.note_content = row['Sonstige Anmerkungen']\n",
    "         \n",
    "        if row['Bildquelle'] != 'FALSE':\n",
    "            arch = row['Bildquelle'].split(',')\n",
    "            arch_inst, _ = Institution.objects.get_or_create(\n",
    "                written_name=arch[0].strip(),\n",
    "                institution_type='Archiv'\n",
    "            )\n",
    "            card.archiv = arch_inst\n",
    "            card.signature = row['Bildquelle'].strip()\n",
    "        \n",
    "        if row['Index, Orte (nur anhand der Aufschriften)'] != 'FALSE':\n",
    "            pl, _ = Place.objects.get_or_create(name=row['Index, Orte (nur anhand der Aufschriften)'])\n",
    "            card.mentioned_place.add(pl)\n",
    "\n",
    "        card.save()\n",
    "        "
   ]
  },
  {
   "cell_type": "code",
   "execution_count": null,
   "metadata": {},
   "outputs": [],
   "source": [
    "for x in Person.objects.all():\n",
    "    try:\n",
    "        x.forename = x.written_name.split(', ')[1]\n",
    "        x.name = x.written_name.split(', ')[0]\n",
    "        x.save()\n",
    "    except:\n",
    "        print(x.written_name)"
   ]
  },
  {
   "cell_type": "code",
   "execution_count": null,
   "metadata": {},
   "outputs": [],
   "source": [
    "for x in Place.objects.all():\n",
    "    x.name = x.name.replace('(Ort)', '')\n",
    "    x.save()"
   ]
  },
  {
   "cell_type": "code",
   "execution_count": null,
   "metadata": {},
   "outputs": [],
   "source": []
  }
 ],
 "metadata": {
  "kernelspec": {
   "display_name": "Django Shell-Plus",
   "language": "python",
   "name": "django_extensions"
  },
  "language_info": {
   "codemirror_mode": {
    "name": "ipython",
    "version": 3
   },
   "file_extension": ".py",
   "mimetype": "text/x-python",
   "name": "python",
   "nbconvert_exporter": "python",
   "pygments_lexer": "ipython3",
   "version": "3.7.0"
  }
 },
 "nbformat": 4,
 "nbformat_minor": 2
}
