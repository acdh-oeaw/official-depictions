{
 "cells": [
  {
   "cell_type": "code",
   "execution_count": null,
   "metadata": {},
   "outputs": [],
   "source": [
    "import pandas as pd"
   ]
  },
  {
   "cell_type": "code",
   "execution_count": null,
   "metadata": {},
   "outputs": [],
   "source": [
    "file = \"cards/data/171218_Inhalte_Gesamtdatenbank_14.xlsx\""
   ]
  },
  {
   "cell_type": "code",
   "execution_count": null,
   "metadata": {},
   "outputs": [],
   "source": [
    "df = pd.read_excel(file)"
   ]
  },
  {
   "cell_type": "code",
   "execution_count": null,
   "metadata": {},
   "outputs": [],
   "source": [
    "df"
   ]
  },
  {
   "cell_type": "code",
   "execution_count": null,
   "metadata": {},
   "outputs": [],
   "source": [
    "bildmotiv, _ = SkosConceptScheme.objects.get_or_create(dc_title=\"Bildmotive\")\n",
    "    "
   ]
  },
  {
   "cell_type": "code",
   "execution_count": null,
   "metadata": {},
   "outputs": [],
   "source": [
    "for i, row in df.iterrows():\n",
    "    temp_cardcol, _ = CardCollection.objects.get_or_create(abbreviation = row[\"Serien-kürzel\"])\n",
    "    card, _ = Card.objects.get_or_create(title=row['Bildquelle'])\n",
    "    card.card_collection = temp_cardcol\n",
    "    card.legacy_id = row['Lfd. Nr.']\n",
    "    if pd.isnull(row['Nr (Serie)']):\n",
    "        pass\n",
    "    else:\n",
    "        card.number=(row['Nr (Serie)'])\n",
    "    if pd.isnull(row['Text Bildseite (Zitat)']):\n",
    "        pass\n",
    "    else:\n",
    "        card.text_front = row['Text Bildseite (Zitat)']\n",
    "    if pd.isnull(row['Text Adressseite (Zitat)']):\n",
    "        pass\n",
    "    else:\n",
    "        card.text_back = row['Text Adressseite (Zitat)']\n",
    "    if pd.isnull(row['Ausgabe-datum']):\n",
    "        pass\n",
    "    else:\n",
    "        card.published_written = row['Ausgabe-datum']\n",
    "    if pd.isnull(row['gelaufen / Datum']):\n",
    "        pass\n",
    "    else:\n",
    "        card.run_written = row['gelaufen / Datum']\n",
    "    if pd.isnull(row['Formale Anmerkungen']):\n",
    "        pass\n",
    "    else:\n",
    "        card.note = row['Formale Anmerkungen']\n",
    "    if pd.isnull(row['Inhaltliche Anmerkungen']):\n",
    "        pass\n",
    "    else:\n",
    "        card.note_content = row['Inhaltliche Anmerkungen']\n",
    "    try:\n",
    "        persons = row['Künstler (Bild)'].split(';')\n",
    "        for x in persons:\n",
    "            temp_pers, _ = Person.objects.get_or_create(written_name = x)\n",
    "            temp_pers.name = x.split(',')[0]\n",
    "            try:\n",
    "                temp_pers.forename = x.split(',')[1]\n",
    "            except IndexError:\n",
    "                pass\n",
    "            temp_pers.save()\n",
    "            card.artist.add(temp_pers)\n",
    "    except AttributeError:\n",
    "        pass\n",
    "    place = row['Index, Orte (nur anhand der Aufschriften)']\n",
    "    if pd.isnull(place):\n",
    "        pass\n",
    "    else:\n",
    "        temp_place, _ = Place.objects.get_or_create(place_written_name=place)\n",
    "        card.mentioned_place.add(temp_place)\n",
    "    try:\n",
    "        motiv = row['Index, Bildmotive'].split(',')\n",
    "    except AttributeError:\n",
    "        motiv = None\n",
    "    if motiv:\n",
    "        for x in motiv:\n",
    "            if x == \"Bildmotiv\":\n",
    "                pass\n",
    "            else:\n",
    "                temp_bildmotiv, _ = SkosConcept.objects.get_or_create(\n",
    "                    pref_label=x.strip(),\n",
    "                    pref_label_lang='ger'\n",
    "                )\n",
    "                temp_bildmotiv.scheme.set([bildmotiv])\n",
    "                temp_bildmotiv.save()\n",
    "                card.bild_motiv.set([temp_bildmotiv])\n",
    "    card.save()"
   ]
  },
  {
   "cell_type": "code",
   "execution_count": null,
   "metadata": {},
   "outputs": [],
   "source": []
  }
 ],
 "metadata": {
  "kernelspec": {
   "display_name": "Django Shell-Plus",
   "language": "python",
   "name": "django_extensions"
  },
  "language_info": {
   "codemirror_mode": {
    "name": "ipython",
    "version": 3
   },
   "file_extension": ".py",
   "mimetype": "text/x-python",
   "name": "python",
   "nbconvert_exporter": "python",
   "pygments_lexer": "ipython3",
   "version": "3.5.3"
  }
 },
 "nbformat": 4,
 "nbformat_minor": 2
}
