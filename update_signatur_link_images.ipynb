{
 "cells": [
  {
   "cell_type": "code",
   "execution_count": null,
   "metadata": {},
   "outputs": [],
   "source": [
    "import pandas as pd\n",
    "from django.utils.text import slugify"
   ]
  },
  {
   "cell_type": "code",
   "execution_count": null,
   "metadata": {},
   "outputs": [],
   "source": [
    "file = \"data/191209_Datenbank_17pD.xlsx\""
   ]
  },
  {
   "cell_type": "code",
   "execution_count": null,
   "metadata": {},
   "outputs": [],
   "source": [
    "df = pd.read_excel(file).fillna('ignore')"
   ]
  },
  {
   "cell_type": "code",
   "execution_count": null,
   "metadata": {},
   "outputs": [],
   "source": [
    "filter_df = df[\"Bildquelle\"].str.startswith('Slg') "
   ]
  },
  {
   "cell_type": "code",
   "execution_count": null,
   "metadata": {},
   "outputs": [],
   "source": [
    "df = df[filter_df]"
   ]
  },
  {
   "cell_type": "code",
   "execution_count": null,
   "metadata": {},
   "outputs": [],
   "source": [
    "df.head(1)"
   ]
  },
  {
   "cell_type": "code",
   "execution_count": null,
   "metadata": {},
   "outputs": [],
   "source": [
    "for i, row in df.iterrows():\n",
    "    lfd_orig = row['Lfd. Nr.']\n",
    "    signature_orig = row['Bildquelle']\n",
    "    sig_slug = slugify(signature_orig).replace('_', '-')\n",
    "    vorn = f\"{sig_slug}b\"\n",
    "    hinten = f\"{sig_slug}a\"\n",
    "    print(vorn, hinten)\n",
    "    try:\n",
    "        int(lfd_orig)\n",
    "    except:\n",
    "        lfd_orig = lfd_orig.split(' ')[0]\n",
    "    try:\n",
    "        item = Card.objects.get(legacy_id=lfd_orig)\n",
    "    except:\n",
    "        continue    \n",
    "    item.signature = signature_orig\n",
    "    item.img_front = vorn\n",
    "    item.img_back = hinten\n",
    "    item.save()"
   ]
  },
  {
   "cell_type": "code",
   "execution_count": null,
   "metadata": {},
   "outputs": [],
   "source": []
  }
 ],
 "metadata": {
  "kernelspec": {
   "display_name": "Django Shell-Plus",
   "language": "python",
   "name": "django_extensions"
  },
  "language_info": {
   "codemirror_mode": {
    "name": "ipython",
    "version": 3
   },
   "file_extension": ".py",
   "mimetype": "text/x-python",
   "name": "python",
   "nbconvert_exporter": "python",
   "pygments_lexer": "ipython3",
   "version": "3.6.9"
  }
 },
 "nbformat": 4,
 "nbformat_minor": 2
}
